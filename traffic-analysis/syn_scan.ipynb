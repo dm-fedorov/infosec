{
 "cells": [
  {
   "cell_type": "code",
   "execution_count": 13,
   "metadata": {},
   "outputs": [],
   "source": [
    "import pandas as pd\n",
    "import numpy as np"
   ]
  },
  {
   "cell_type": "code",
   "execution_count": 14,
   "metadata": {},
   "outputs": [
    {
     "data": {
      "text/html": [
       "<div>\n",
       "<style scoped>\n",
       "    .dataframe tbody tr th:only-of-type {\n",
       "        vertical-align: middle;\n",
       "    }\n",
       "\n",
       "    .dataframe tbody tr th {\n",
       "        vertical-align: top;\n",
       "    }\n",
       "\n",
       "    .dataframe thead th {\n",
       "        text-align: right;\n",
       "    }\n",
       "</style>\n",
       "<table border=\"1\" class=\"dataframe\">\n",
       "  <thead>\n",
       "    <tr style=\"text-align: right;\">\n",
       "      <th></th>\n",
       "      <th>_index</th>\n",
       "      <th>_type</th>\n",
       "      <th>_score</th>\n",
       "      <th>_source</th>\n",
       "    </tr>\n",
       "  </thead>\n",
       "  <tbody>\n",
       "    <tr>\n",
       "      <th>0</th>\n",
       "      <td>packets-2020-11-12</td>\n",
       "      <td>pcap_file</td>\n",
       "      <td>NaN</td>\n",
       "      <td>{'layers': {'frame': {'frame.interface_id': '0...</td>\n",
       "    </tr>\n",
       "    <tr>\n",
       "      <th>1</th>\n",
       "      <td>packets-2020-11-12</td>\n",
       "      <td>pcap_file</td>\n",
       "      <td>NaN</td>\n",
       "      <td>{'layers': {'frame': {'frame.interface_id': '0...</td>\n",
       "    </tr>\n",
       "    <tr>\n",
       "      <th>2</th>\n",
       "      <td>packets-2020-11-12</td>\n",
       "      <td>pcap_file</td>\n",
       "      <td>NaN</td>\n",
       "      <td>{'layers': {'frame': {'frame.interface_id': '0...</td>\n",
       "    </tr>\n",
       "    <tr>\n",
       "      <th>3</th>\n",
       "      <td>packets-2020-11-12</td>\n",
       "      <td>pcap_file</td>\n",
       "      <td>NaN</td>\n",
       "      <td>{'layers': {'frame': {'frame.interface_id': '0...</td>\n",
       "    </tr>\n",
       "    <tr>\n",
       "      <th>4</th>\n",
       "      <td>packets-2020-11-12</td>\n",
       "      <td>pcap_file</td>\n",
       "      <td>NaN</td>\n",
       "      <td>{'layers': {'frame': {'frame.interface_id': '0...</td>\n",
       "    </tr>\n",
       "  </tbody>\n",
       "</table>\n",
       "</div>"
      ],
      "text/plain": [
       "               _index      _type  _score  \\\n",
       "0  packets-2020-11-12  pcap_file     NaN   \n",
       "1  packets-2020-11-12  pcap_file     NaN   \n",
       "2  packets-2020-11-12  pcap_file     NaN   \n",
       "3  packets-2020-11-12  pcap_file     NaN   \n",
       "4  packets-2020-11-12  pcap_file     NaN   \n",
       "\n",
       "                                             _source  \n",
       "0  {'layers': {'frame': {'frame.interface_id': '0...  \n",
       "1  {'layers': {'frame': {'frame.interface_id': '0...  \n",
       "2  {'layers': {'frame': {'frame.interface_id': '0...  \n",
       "3  {'layers': {'frame': {'frame.interface_id': '0...  \n",
       "4  {'layers': {'frame': {'frame.interface_id': '0...  "
      ]
     },
     "execution_count": 14,
     "metadata": {},
     "output_type": "execute_result"
    }
   ],
   "source": [
    "df = pd.read_json(\"data/synscan.json\")\n",
    "df.head()"
   ]
  },
  {
   "cell_type": "code",
   "execution_count": 15,
   "metadata": {},
   "outputs": [],
   "source": [
    "# разбить столбец _source на несколько"
   ]
  },
  {
   "cell_type": "code",
   "execution_count": 16,
   "metadata": {
    "scrolled": true
   },
   "outputs": [
    {
     "data": {
      "text/plain": [
       "{'layers': {'frame': {'frame.interface_id': '0',\n",
       "   'frame.interface_id_tree': {'frame.interface_name': 'unknown'},\n",
       "   'frame.encap_type': '1',\n",
       "   'frame.time': 'Jul  5, 2010 00:24:16.274870000 MSD',\n",
       "   'frame.offset_shift': '0.000000000',\n",
       "   'frame.time_epoch': '1278275056.274870000',\n",
       "   'frame.time_delta': '0.000000000',\n",
       "   'frame.time_delta_displayed': '0.000000000',\n",
       "   'frame.time_relative': '0.000000000',\n",
       "   'frame.number': '1',\n",
       "   'frame.len': '58',\n",
       "   'frame.cap_len': '58',\n",
       "   'frame.marked': '0',\n",
       "   'frame.ignored': '0',\n",
       "   'frame.protocols': 'eth:ethertype:ip:tcp',\n",
       "   'frame.coloring_rule.name': 'TCP SYN/FIN',\n",
       "   'frame.coloring_rule.string': 'tcp.flags & 0x02 || tcp.flags.fin == 1'},\n",
       "  'eth': {'eth.dst': '00:26:0b:31:07:33',\n",
       "   'eth.dst_tree': {'eth.dst_resolved': 'Cisco_31:07:33',\n",
       "    'eth.addr': '00:26:0b:31:07:33',\n",
       "    'eth.addr_resolved': 'Cisco_31:07:33',\n",
       "    'eth.lg': '0',\n",
       "    'eth.ig': '0'},\n",
       "   'eth.src': '00:25:b3:bf:91:ee',\n",
       "   'eth.src_tree': {'eth.src_resolved': 'HewlettP_bf:91:ee',\n",
       "    'eth.addr': '00:25:b3:bf:91:ee',\n",
       "    'eth.addr_resolved': 'HewlettP_bf:91:ee',\n",
       "    'eth.lg': '0',\n",
       "    'eth.ig': '0'},\n",
       "   'eth.type': '0x00000800'},\n",
       "  'ip': {'ip.version': '4',\n",
       "   'ip.hdr_len': '20',\n",
       "   'ip.dsfield': '0x00000000',\n",
       "   'ip.dsfield_tree': {'ip.dsfield.dscp': '0', 'ip.dsfield.ecn': '0'},\n",
       "   'ip.len': '44',\n",
       "   'ip.id': '0x0000e708',\n",
       "   'ip.flags': '0x00000000',\n",
       "   'ip.flags_tree': {'ip.flags.rb': '0',\n",
       "    'ip.flags.df': '0',\n",
       "    'ip.flags.mf': '0',\n",
       "    'ip.frag_offset': '0'},\n",
       "   'ip.ttl': '54',\n",
       "   'ip.proto': '6',\n",
       "   'ip.checksum': '0x00002b6a',\n",
       "   'ip.checksum.status': '2',\n",
       "   'ip.src': '172.16.0.8',\n",
       "   'ip.addr': '64.13.134.52',\n",
       "   'ip.src_host': '172.16.0.8',\n",
       "   'ip.host': '64.13.134.52',\n",
       "   'ip.dst': '64.13.134.52',\n",
       "   'ip.dst_host': '64.13.134.52'},\n",
       "  'tcp': {'tcp.srcport': '36050',\n",
       "   'tcp.dstport': '443',\n",
       "   'tcp.port': '443',\n",
       "   'tcp.stream': '0',\n",
       "   'tcp.len': '0',\n",
       "   'tcp.seq': '0',\n",
       "   'tcp.nxtseq': '0',\n",
       "   'tcp.ack': '0',\n",
       "   'tcp.hdr_len': '24',\n",
       "   'tcp.flags': '0x00000002',\n",
       "   'tcp.flags_tree': {'tcp.flags.res': '0',\n",
       "    'tcp.flags.ns': '0',\n",
       "    'tcp.flags.cwr': '0',\n",
       "    'tcp.flags.ecn': '0',\n",
       "    'tcp.flags.urg': '0',\n",
       "    'tcp.flags.ack': '0',\n",
       "    'tcp.flags.push': '0',\n",
       "    'tcp.flags.reset': '0',\n",
       "    'tcp.flags.syn': '1',\n",
       "    'tcp.flags.syn_tree': {'_ws.expert': {'tcp.connection.syn': '',\n",
       "      '_ws.expert.message': 'Connection establish request (SYN): server port 443',\n",
       "      '_ws.expert.severity': '2097152',\n",
       "      '_ws.expert.group': '33554432'}},\n",
       "    'tcp.flags.fin': '0',\n",
       "    'tcp.flags.str': 'Â·Â·Â·Â·Â·Â·Â·Â·Â·Â·SÂ·'},\n",
       "   'tcp.window_size_value': '3072',\n",
       "   'tcp.window_size': '3072',\n",
       "   'tcp.checksum': '0x00002ad4',\n",
       "   'tcp.checksum.status': '2',\n",
       "   'tcp.urgent_pointer': '0',\n",
       "   'tcp.options': '02:04:05:b4',\n",
       "   'tcp.options_tree': {'tcp.options.mss': '02:04:05:b4',\n",
       "    'tcp.options.mss_tree': {'tcp.option_kind': '2',\n",
       "     'tcp.option_len': '4',\n",
       "     'tcp.options.mss_val': '1460'}},\n",
       "   'Timestamps': {'tcp.time_relative': '0.000000000',\n",
       "    'tcp.time_delta': '0.000000000'}}}}"
      ]
     },
     "execution_count": 16,
     "metadata": {},
     "output_type": "execute_result"
    }
   ],
   "source": [
    "df._source.iloc[0] "
   ]
  },
  {
   "cell_type": "code",
   "execution_count": 17,
   "metadata": {},
   "outputs": [
    {
     "data": {
      "text/plain": [
       "2006    {'layers': {'frame': {'frame.interface_id': '0...\n",
       "2007    {'layers': {'frame': {'frame.interface_id': '0...\n",
       "2008    {'layers': {'frame': {'frame.interface_id': '0...\n",
       "2009    {'layers': {'frame': {'frame.interface_id': '0...\n",
       "2010    {'layers': {'frame': {'frame.interface_id': '0...\n",
       "Name: _source, dtype: object"
      ]
     },
     "execution_count": 17,
     "metadata": {},
     "output_type": "execute_result"
    }
   ],
   "source": [
    "df._source.tail()"
   ]
  },
  {
   "cell_type": "code",
   "execution_count": 18,
   "metadata": {},
   "outputs": [],
   "source": [
    "# https://www.python4networkengineers.com/posts/wireshark/analyzing_wireshark_data_with_pandas/"
   ]
  },
  {
   "cell_type": "code",
   "execution_count": 19,
   "metadata": {},
   "outputs": [
    {
     "data": {
      "text/html": [
       "<div>\n",
       "<style scoped>\n",
       "    .dataframe tbody tr th:only-of-type {\n",
       "        vertical-align: middle;\n",
       "    }\n",
       "\n",
       "    .dataframe tbody tr th {\n",
       "        vertical-align: top;\n",
       "    }\n",
       "\n",
       "    .dataframe thead th {\n",
       "        text-align: right;\n",
       "    }\n",
       "</style>\n",
       "<table border=\"1\" class=\"dataframe\">\n",
       "  <thead>\n",
       "    <tr style=\"text-align: right;\">\n",
       "      <th></th>\n",
       "      <th>No.</th>\n",
       "      <th>Time</th>\n",
       "      <th>Source</th>\n",
       "      <th>Destination</th>\n",
       "      <th>Protocol</th>\n",
       "      <th>Length</th>\n",
       "      <th>Info</th>\n",
       "    </tr>\n",
       "  </thead>\n",
       "  <tbody>\n",
       "    <tr>\n",
       "      <th>0</th>\n",
       "      <td>1</td>\n",
       "      <td>0.000000</td>\n",
       "      <td>172.16.0.8</td>\n",
       "      <td>64.13.134.52</td>\n",
       "      <td>TCP</td>\n",
       "      <td>58</td>\n",
       "      <td>36050  &gt;  443 [SYN] Seq=0 Win=3072 Len=0 MSS=1460</td>\n",
       "    </tr>\n",
       "    <tr>\n",
       "      <th>1</th>\n",
       "      <td>2</td>\n",
       "      <td>0.001539</td>\n",
       "      <td>172.16.0.8</td>\n",
       "      <td>64.13.134.52</td>\n",
       "      <td>TCP</td>\n",
       "      <td>58</td>\n",
       "      <td>36050  &gt;  143 [SYN] Seq=0 Win=3072 Len=0 MSS=1460</td>\n",
       "    </tr>\n",
       "    <tr>\n",
       "      <th>2</th>\n",
       "      <td>3</td>\n",
       "      <td>0.001597</td>\n",
       "      <td>172.16.0.8</td>\n",
       "      <td>64.13.134.52</td>\n",
       "      <td>TCP</td>\n",
       "      <td>58</td>\n",
       "      <td>36050  &gt;  3306 [SYN] Seq=0 Win=2048 Len=0 MSS=...</td>\n",
       "    </tr>\n",
       "    <tr>\n",
       "      <th>3</th>\n",
       "      <td>4</td>\n",
       "      <td>0.001650</td>\n",
       "      <td>172.16.0.8</td>\n",
       "      <td>64.13.134.52</td>\n",
       "      <td>TCP</td>\n",
       "      <td>58</td>\n",
       "      <td>36050  &gt;  199 [SYN] Seq=0 Win=3072 Len=0 MSS=1460</td>\n",
       "    </tr>\n",
       "    <tr>\n",
       "      <th>4</th>\n",
       "      <td>5</td>\n",
       "      <td>0.001703</td>\n",
       "      <td>172.16.0.8</td>\n",
       "      <td>64.13.134.52</td>\n",
       "      <td>TCP</td>\n",
       "      <td>58</td>\n",
       "      <td>36050  &gt;  111 [SYN] Seq=0 Win=1024 Len=0 MSS=1460</td>\n",
       "    </tr>\n",
       "  </tbody>\n",
       "</table>\n",
       "</div>"
      ],
      "text/plain": [
       "   No.      Time      Source   Destination Protocol  Length  \\\n",
       "0    1  0.000000  172.16.0.8  64.13.134.52      TCP      58   \n",
       "1    2  0.001539  172.16.0.8  64.13.134.52      TCP      58   \n",
       "2    3  0.001597  172.16.0.8  64.13.134.52      TCP      58   \n",
       "3    4  0.001650  172.16.0.8  64.13.134.52      TCP      58   \n",
       "4    5  0.001703  172.16.0.8  64.13.134.52      TCP      58   \n",
       "\n",
       "                                                Info  \n",
       "0  36050  >  443 [SYN] Seq=0 Win=3072 Len=0 MSS=1460  \n",
       "1  36050  >  143 [SYN] Seq=0 Win=3072 Len=0 MSS=1460  \n",
       "2  36050  >  3306 [SYN] Seq=0 Win=2048 Len=0 MSS=...  \n",
       "3  36050  >  199 [SYN] Seq=0 Win=3072 Len=0 MSS=1460  \n",
       "4  36050  >  111 [SYN] Seq=0 Win=1024 Len=0 MSS=1460  "
      ]
     },
     "execution_count": 19,
     "metadata": {},
     "output_type": "execute_result"
    }
   ],
   "source": [
    "df = pd.read_csv(\"data/synscan.csv\")\n",
    "df.head()"
   ]
  },
  {
   "cell_type": "code",
   "execution_count": 20,
   "metadata": {},
   "outputs": [
    {
     "data": {
      "text/plain": [
       "2006    [TCP Retransmission] 80  >  36050 [SYN, ACK] S...\n",
       "2007    [TCP Retransmission] 22  >  36050 [SYN, ACK] S...\n",
       "2008    [TCP Retransmission] 53  >  36050 [SYN, ACK] S...\n",
       "2009    [TCP Retransmission] 80  >  36050 [SYN, ACK] S...\n",
       "2010    [TCP Retransmission] 22  >  36050 [SYN, ACK] S...\n",
       "Name: Info, dtype: object"
      ]
     },
     "execution_count": 20,
     "metadata": {},
     "output_type": "execute_result"
    }
   ],
   "source": [
    "df.Info.tail()"
   ]
  },
  {
   "cell_type": "code",
   "execution_count": 23,
   "metadata": {},
   "outputs": [
    {
     "data": {
      "text/plain": [
       "Protocol\n",
       "TCP    2011\n",
       "Name: Source, dtype: int64"
      ]
     },
     "execution_count": 23,
     "metadata": {},
     "output_type": "execute_result"
    }
   ],
   "source": [
    "df.groupby(\"Protocol\").Source.count()"
   ]
  },
  {
   "cell_type": "code",
   "execution_count": null,
   "metadata": {},
   "outputs": [],
   "source": [
    "# https://www.python4networkengineers.com/posts/wireshark/analyzing_wireshark_data_with_pandas/"
   ]
  }
 ],
 "metadata": {
  "kernelspec": {
   "display_name": "Python 3",
   "language": "python",
   "name": "python3"
  },
  "language_info": {
   "codemirror_mode": {
    "name": "ipython",
    "version": 3
   },
   "file_extension": ".py",
   "mimetype": "text/x-python",
   "name": "python",
   "nbconvert_exporter": "python",
   "pygments_lexer": "ipython3",
   "version": "3.8.3"
  }
 },
 "nbformat": 4,
 "nbformat_minor": 4
}
