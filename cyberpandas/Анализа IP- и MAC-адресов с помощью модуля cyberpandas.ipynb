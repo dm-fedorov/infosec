{
 "cells": [
  {
   "cell_type": "markdown",
   "metadata": {},
   "source": [
    "# Анализа IP- и MAC-адресов с помощью модуля cyberpandas"
   ]
  },
  {
   "cell_type": "markdown",
   "metadata": {},
   "source": [
    "<a href=\"https://colab.research.google.com/github/dm-fedorov/infosec/blob/master/cyberpandas/Анализа%20IP-%20и%20MAC-адресов%20с%20помощью%20модуля%20cyberpandas.ipynb\"><img align=\"left\" src=\"https://colab.research.google.com/assets/colab-badge.svg\" alt=\"Open in Colab\" title=\"Open and Execute in Google Colaboratory\" target=\"_blank\"></a>"
   ]
  },
  {
   "cell_type": "markdown",
   "metadata": {},
   "source": [
    "Обычно при анализе сетевого трафика используются наборы данных, содержащие IP-адреса.\n",
    "\n",
    "В стандртном Python для этого есть:\n",
    "- [Модуль ipaddress](https://pyneng.readthedocs.io/ru/latest/book/12_useful_modules/ipaddress.html)\n",
    "- [Learn IP Address Concepts With Python's ipaddress Module](https://realpython.com/python-ipaddress-module/)\n",
    "- [An introduction to the ipaddress module](https://docs.python.org/3/howto/ipaddress.html)\n",
    "\n",
    "Но мы помним про объемы памяти, которые выделяет стандартный Python в момент создания объектов. "
   ]
  },
  {
   "cell_type": "markdown",
   "metadata": {},
   "source": [
    "Основываясь на [`ExtensionArray`](https://pandas.pydata.org/pandas-docs/stable/reference/api/pandas.api.extensions.ExtensionArray.html) интерфейсе, [`cyberpandas`](https://cyberpandas.readthedocs.io/en/latest/) предоставляет два новых типа данных: для IP-адреса и для MAC-адреса, совместимые с типами данных pandas."
   ]
  },
  {
   "cell_type": "code",
   "execution_count": 1,
   "metadata": {},
   "outputs": [],
   "source": [
    "#!pip3 install cyberpandas"
   ]
  },
  {
   "cell_type": "code",
   "execution_count": 2,
   "metadata": {},
   "outputs": [],
   "source": [
    "import pandas as pd\n",
    "from cyberpandas import IPArray, to_ipaddress "
   ]
  },
  {
   "cell_type": "code",
   "execution_count": 3,
   "metadata": {},
   "outputs": [
    {
     "data": {
      "text/plain": [
       "IPArray(['192.168.1.1', '2001:db8:85a3::8a2e:370:7334'])"
      ]
     },
     "execution_count": 3,
     "metadata": {},
     "output_type": "execute_result"
    }
   ],
   "source": [
    "# создаем объекти типа IPArray\n",
    "arr = IPArray(['192.168.1.1',                               # IP\n",
    "               '2001:0db8:85a3:0000:0000:8a2e:0370:7334'])  # MAC  \n",
    "arr"
   ]
  },
  {
   "cell_type": "code",
   "execution_count": 4,
   "metadata": {},
   "outputs": [
    {
     "data": {
      "text/plain": [
       "cyberpandas.ip_array.IPArray"
      ]
     },
     "execution_count": 4,
     "metadata": {},
     "output_type": "execute_result"
    }
   ],
   "source": [
    "type(arr)"
   ]
  },
  {
   "cell_type": "markdown",
   "metadata": {},
   "source": [
    "Создадим `Series` на основе массива `IPArray`:"
   ]
  },
  {
   "cell_type": "code",
   "execution_count": 5,
   "metadata": {},
   "outputs": [],
   "source": [
    "ser = pd.Series(arr)"
   ]
  },
  {
   "cell_type": "code",
   "execution_count": 6,
   "metadata": {},
   "outputs": [
    {
     "data": {
      "text/plain": [
       "0                     192.168.1.1\n",
       "1    2001:db8:85a3::8a2e:370:7334\n",
       "dtype: ip"
      ]
     },
     "execution_count": 6,
     "metadata": {},
     "output_type": "execute_result"
    }
   ],
   "source": [
    "ser"
   ]
  },
  {
   "cell_type": "markdown",
   "metadata": {},
   "source": [
    "Обратите внимание на `dtype`. \n",
    "\n",
    "Данные по-прежнему хранятся в формате `IPArray`. Это обеспечивает высокопроизводительный рабочий процесс, который будет [естественным для пользователей pandas](https://cyberpandas.readthedocs.io/en/latest/usage.html#pandas-integration).\n",
    "\n",
    "Рассмотрим пример анализа сетевого трафика:"
   ]
  },
  {
   "cell_type": "code",
   "execution_count": 7,
   "metadata": {},
   "outputs": [],
   "source": [
    "# данные получены из wireshark -> csv\n",
    "df = pd.read_csv(\"https://raw.githubusercontent.com/dm-fedorov/infosec/master/traffic-analysis/data/processed/scan_26112020.csv\")"
   ]
  },
  {
   "cell_type": "code",
   "execution_count": 8,
   "metadata": {},
   "outputs": [
    {
     "data": {
      "text/html": [
       "<div>\n",
       "<style scoped>\n",
       "    .dataframe tbody tr th:only-of-type {\n",
       "        vertical-align: middle;\n",
       "    }\n",
       "\n",
       "    .dataframe tbody tr th {\n",
       "        vertical-align: top;\n",
       "    }\n",
       "\n",
       "    .dataframe thead th {\n",
       "        text-align: right;\n",
       "    }\n",
       "</style>\n",
       "<table border=\"1\" class=\"dataframe\">\n",
       "  <thead>\n",
       "    <tr style=\"text-align: right;\">\n",
       "      <th></th>\n",
       "      <th>Time</th>\n",
       "      <th>Source</th>\n",
       "      <th>Destination</th>\n",
       "      <th>Protocol</th>\n",
       "      <th>Length</th>\n",
       "      <th>Info</th>\n",
       "    </tr>\n",
       "  </thead>\n",
       "  <tbody>\n",
       "    <tr>\n",
       "      <th>0</th>\n",
       "      <td>1970-01-01 00:00:00.000000000</td>\n",
       "      <td>172.16.0.8</td>\n",
       "      <td>64.13.134.52</td>\n",
       "      <td>TCP</td>\n",
       "      <td>58</td>\n",
       "      <td>36050  &gt;  443 [SYN] Seq=0 Win=3072 Len=0 MSS=1460</td>\n",
       "    </tr>\n",
       "    <tr>\n",
       "      <th>1</th>\n",
       "      <td>1970-01-01 00:00:00.001539000</td>\n",
       "      <td>172.16.0.8</td>\n",
       "      <td>64.13.134.52</td>\n",
       "      <td>TCP</td>\n",
       "      <td>58</td>\n",
       "      <td>36050  &gt;  143 [SYN] Seq=0 Win=3072 Len=0 MSS=1460</td>\n",
       "    </tr>\n",
       "    <tr>\n",
       "      <th>2</th>\n",
       "      <td>1970-01-01 00:00:00.001597000</td>\n",
       "      <td>172.16.0.8</td>\n",
       "      <td>64.13.134.52</td>\n",
       "      <td>TCP</td>\n",
       "      <td>58</td>\n",
       "      <td>36050  &gt;  3306 [SYN] Seq=0 Win=2048 Len=0 MSS=...</td>\n",
       "    </tr>\n",
       "    <tr>\n",
       "      <th>3</th>\n",
       "      <td>1970-01-01 00:00:00.001650000</td>\n",
       "      <td>172.16.0.8</td>\n",
       "      <td>64.13.134.52</td>\n",
       "      <td>TCP</td>\n",
       "      <td>58</td>\n",
       "      <td>36050  &gt;  199 [SYN] Seq=0 Win=3072 Len=0 MSS=1460</td>\n",
       "    </tr>\n",
       "    <tr>\n",
       "      <th>4</th>\n",
       "      <td>1970-01-01 00:00:00.001703000</td>\n",
       "      <td>172.16.0.8</td>\n",
       "      <td>64.13.134.52</td>\n",
       "      <td>TCP</td>\n",
       "      <td>58</td>\n",
       "      <td>36050  &gt;  111 [SYN] Seq=0 Win=1024 Len=0 MSS=1460</td>\n",
       "    </tr>\n",
       "  </tbody>\n",
       "</table>\n",
       "</div>"
      ],
      "text/plain": [
       "                            Time      Source   Destination Protocol  Length  \\\n",
       "0  1970-01-01 00:00:00.000000000  172.16.0.8  64.13.134.52      TCP      58   \n",
       "1  1970-01-01 00:00:00.001539000  172.16.0.8  64.13.134.52      TCP      58   \n",
       "2  1970-01-01 00:00:00.001597000  172.16.0.8  64.13.134.52      TCP      58   \n",
       "3  1970-01-01 00:00:00.001650000  172.16.0.8  64.13.134.52      TCP      58   \n",
       "4  1970-01-01 00:00:00.001703000  172.16.0.8  64.13.134.52      TCP      58   \n",
       "\n",
       "                                                Info  \n",
       "0  36050  >  443 [SYN] Seq=0 Win=3072 Len=0 MSS=1460  \n",
       "1  36050  >  143 [SYN] Seq=0 Win=3072 Len=0 MSS=1460  \n",
       "2  36050  >  3306 [SYN] Seq=0 Win=2048 Len=0 MSS=...  \n",
       "3  36050  >  199 [SYN] Seq=0 Win=3072 Len=0 MSS=1460  \n",
       "4  36050  >  111 [SYN] Seq=0 Win=1024 Len=0 MSS=1460  "
      ]
     },
     "execution_count": 8,
     "metadata": {},
     "output_type": "execute_result"
    }
   ],
   "source": [
    "df_copy = df.copy()\n",
    "df_copy.head()"
   ]
  },
  {
   "cell_type": "markdown",
   "metadata": {},
   "source": [
    "Посмотрим на типы данных:"
   ]
  },
  {
   "cell_type": "code",
   "execution_count": 9,
   "metadata": {},
   "outputs": [
    {
     "data": {
      "text/plain": [
       "Time           object\n",
       "Source         object\n",
       "Destination    object\n",
       "Protocol       object\n",
       "Length          int64\n",
       "Info           object\n",
       "dtype: object"
      ]
     },
     "execution_count": 9,
     "metadata": {},
     "output_type": "execute_result"
    }
   ],
   "source": [
    "df_copy.dtypes"
   ]
  },
  {
   "cell_type": "markdown",
   "metadata": {},
   "source": [
    "Преобразуем столбцы `Source` и `Destination` в тип данных `IPArray`:"
   ]
  },
  {
   "cell_type": "code",
   "execution_count": 10,
   "metadata": {},
   "outputs": [
    {
     "data": {
      "text/plain": [
       "Time           object\n",
       "Source             ip\n",
       "Destination        ip\n",
       "Protocol       object\n",
       "Length          int64\n",
       "Info           object\n",
       "dtype: object"
      ]
     },
     "execution_count": 10,
     "metadata": {},
     "output_type": "execute_result"
    }
   ],
   "source": [
    "df_copy[\"Source\"] = IPArray(df_copy[\"Source\"])\n",
    "df_copy[\"Destination\"] = IPArray(df_copy[\"Destination\"])\n",
    "df_copy.dtypes"
   ]
  },
  {
   "cell_type": "markdown",
   "metadata": {},
   "source": [
    "Или еще один способ для преобразования в `IPArray`:"
   ]
  },
  {
   "cell_type": "code",
   "execution_count": 11,
   "metadata": {},
   "outputs": [],
   "source": [
    "df_copy = df.copy()\n",
    "\n",
    "df_copy[\"Destination\"] = to_ipaddress(df_copy[\"Destination\"])\n",
    "df_copy[\"Source\"] = to_ipaddress(df_copy[\"Source\"])"
   ]
  },
  {
   "cell_type": "code",
   "execution_count": 12,
   "metadata": {},
   "outputs": [
    {
     "data": {
      "text/plain": [
       "Time           object\n",
       "Source             ip\n",
       "Destination        ip\n",
       "Protocol       object\n",
       "Length          int64\n",
       "Info           object\n",
       "dtype: object"
      ]
     },
     "execution_count": 12,
     "metadata": {},
     "output_type": "execute_result"
    }
   ],
   "source": [
    "df_copy.dtypes"
   ]
  },
  {
   "cell_type": "code",
   "execution_count": 13,
   "metadata": {},
   "outputs": [
    {
     "data": {
      "text/html": [
       "<div>\n",
       "<style scoped>\n",
       "    .dataframe tbody tr th:only-of-type {\n",
       "        vertical-align: middle;\n",
       "    }\n",
       "\n",
       "    .dataframe tbody tr th {\n",
       "        vertical-align: top;\n",
       "    }\n",
       "\n",
       "    .dataframe thead th {\n",
       "        text-align: right;\n",
       "    }\n",
       "</style>\n",
       "<table border=\"1\" class=\"dataframe\">\n",
       "  <thead>\n",
       "    <tr style=\"text-align: right;\">\n",
       "      <th></th>\n",
       "      <th>Time</th>\n",
       "      <th>Source</th>\n",
       "      <th>Destination</th>\n",
       "      <th>Protocol</th>\n",
       "      <th>Length</th>\n",
       "      <th>Info</th>\n",
       "    </tr>\n",
       "  </thead>\n",
       "  <tbody>\n",
       "    <tr>\n",
       "      <th>0</th>\n",
       "      <td>1970-01-01 00:00:00.000000000</td>\n",
       "      <td>172.16.0.8</td>\n",
       "      <td>64.13.134.52</td>\n",
       "      <td>TCP</td>\n",
       "      <td>58</td>\n",
       "      <td>36050  &gt;  443 [SYN] Seq=0 Win=3072 Len=0 MSS=1460</td>\n",
       "    </tr>\n",
       "    <tr>\n",
       "      <th>1</th>\n",
       "      <td>1970-01-01 00:00:00.001539000</td>\n",
       "      <td>172.16.0.8</td>\n",
       "      <td>64.13.134.52</td>\n",
       "      <td>TCP</td>\n",
       "      <td>58</td>\n",
       "      <td>36050  &gt;  143 [SYN] Seq=0 Win=3072 Len=0 MSS=1460</td>\n",
       "    </tr>\n",
       "    <tr>\n",
       "      <th>2</th>\n",
       "      <td>1970-01-01 00:00:00.001597000</td>\n",
       "      <td>172.16.0.8</td>\n",
       "      <td>64.13.134.52</td>\n",
       "      <td>TCP</td>\n",
       "      <td>58</td>\n",
       "      <td>36050  &gt;  3306 [SYN] Seq=0 Win=2048 Len=0 MSS=...</td>\n",
       "    </tr>\n",
       "    <tr>\n",
       "      <th>3</th>\n",
       "      <td>1970-01-01 00:00:00.001650000</td>\n",
       "      <td>172.16.0.8</td>\n",
       "      <td>64.13.134.52</td>\n",
       "      <td>TCP</td>\n",
       "      <td>58</td>\n",
       "      <td>36050  &gt;  199 [SYN] Seq=0 Win=3072 Len=0 MSS=1460</td>\n",
       "    </tr>\n",
       "    <tr>\n",
       "      <th>4</th>\n",
       "      <td>1970-01-01 00:00:00.001703000</td>\n",
       "      <td>172.16.0.8</td>\n",
       "      <td>64.13.134.52</td>\n",
       "      <td>TCP</td>\n",
       "      <td>58</td>\n",
       "      <td>36050  &gt;  111 [SYN] Seq=0 Win=1024 Len=0 MSS=1460</td>\n",
       "    </tr>\n",
       "  </tbody>\n",
       "</table>\n",
       "</div>"
      ],
      "text/plain": [
       "                            Time      Source   Destination Protocol  Length  \\\n",
       "0  1970-01-01 00:00:00.000000000  172.16.0.8  64.13.134.52      TCP      58   \n",
       "1  1970-01-01 00:00:00.001539000  172.16.0.8  64.13.134.52      TCP      58   \n",
       "2  1970-01-01 00:00:00.001597000  172.16.0.8  64.13.134.52      TCP      58   \n",
       "3  1970-01-01 00:00:00.001650000  172.16.0.8  64.13.134.52      TCP      58   \n",
       "4  1970-01-01 00:00:00.001703000  172.16.0.8  64.13.134.52      TCP      58   \n",
       "\n",
       "                                                Info  \n",
       "0  36050  >  443 [SYN] Seq=0 Win=3072 Len=0 MSS=1460  \n",
       "1  36050  >  143 [SYN] Seq=0 Win=3072 Len=0 MSS=1460  \n",
       "2  36050  >  3306 [SYN] Seq=0 Win=2048 Len=0 MSS=...  \n",
       "3  36050  >  199 [SYN] Seq=0 Win=3072 Len=0 MSS=1460  \n",
       "4  36050  >  111 [SYN] Seq=0 Win=1024 Len=0 MSS=1460  "
      ]
     },
     "execution_count": 13,
     "metadata": {},
     "output_type": "execute_result"
    }
   ],
   "source": [
    "df_copy.head()"
   ]
  },
  {
   "cell_type": "markdown",
   "metadata": {},
   "source": [
    "Различные атрибуты по [ссылке](https://cyberpandas.readthedocs.io/en/latest/api.html#ip-address-attributes):"
   ]
  },
  {
   "cell_type": "code",
   "execution_count": 14,
   "metadata": {},
   "outputs": [
    {
     "data": {
      "text/plain": [
       "array([ True,  True,  True, ...,  True,  True,  True])"
      ]
     },
     "execution_count": 14,
     "metadata": {},
     "output_type": "execute_result"
    }
   ],
   "source": [
    "df_copy.Source.values.is_ipv4"
   ]
  },
  {
   "cell_type": "code",
   "execution_count": null,
   "metadata": {},
   "outputs": [],
   "source": []
  }
 ],
 "metadata": {
  "kernelspec": {
   "display_name": "Python 3",
   "language": "python",
   "name": "python3"
  },
  "language_info": {
   "codemirror_mode": {
    "name": "ipython",
    "version": 3
   },
   "file_extension": ".py",
   "mimetype": "text/x-python",
   "name": "python",
   "nbconvert_exporter": "python",
   "pygments_lexer": "ipython3",
   "version": "3.8.3"
  }
 },
 "nbformat": 4,
 "nbformat_minor": 4
}
