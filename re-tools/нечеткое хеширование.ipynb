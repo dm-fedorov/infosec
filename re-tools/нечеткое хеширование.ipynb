{
 "cells": [
  {
   "cell_type": "markdown",
   "metadata": {},
   "source": [
    "Сравнение подозрительного файла с ранее проанализированными образцами или образцами, хранящимися в публичном либо частном хранилище, может дать представление о семействе вредоносных программ, их характеристиках и сходстве с предварительно проанализированными образцами.\n",
    "\n",
    "Хотя криптографические хеш-функции (MD5/SHA1/SHA256) являются отличным методом для обнаружения идентичных образцов, они не помогают в идентификации схожих образцов. Очень часто авторы вредоносных программ меняют мелкие аспекты вредоносных программ, что полностью меняет значение хеш-функции. "
   ]
  },
  {
   "cell_type": "markdown",
   "metadata": {},
   "source": [
    "Нечеткое хеширование – отличный способ сравнить файлы на схожесть. \n",
    "\n",
    "[Ssdeep](https://ssdeep-project.github.io/ssdeep/) – полезный инструмент для создания нечеткого хеша для образца, и он также помогает в определении процентного сходства между\n",
    "образцами. Этот метод полезен при сравнении подозрительного файла с образцами из хранилища для идентификации похожих. Это может помочь определить образцы, принадлежащие к одному семейству вредоносных программ или к одной и той же группе субъектов."
   ]
  },
  {
   "cell_type": "code",
   "execution_count": 2,
   "metadata": {},
   "outputs": [],
   "source": [
    "#apt-get -y install libfuzzy-dev\n",
    "#apt-get install ssdeep\n",
    "#pip install ssdeep"
   ]
  },
  {
   "cell_type": "markdown",
   "metadata": {},
   "source": [
    "Чтобы определить нечеткий хеш образца, выполните следующую команду:"
   ]
  },
  {
   "cell_type": "code",
   "execution_count": 1,
   "metadata": {},
   "outputs": [
    {
     "name": "stdout",
     "output_type": "stream",
     "text": [
      "ssdeep,1.1--blocksize:hash:hash,filename\r\n",
      "96:RZTmB6WBilMGIlZIpMRiUHsTgZ6uQ7fTuB3eoBqSitrqN:RZioWQMZMpLfgZ8+4osSi,\"/home/dmf/new_github/infosec/re-tools/test\"\r\n"
     ]
    }
   ],
   "source": [
    "!ssdeep test"
   ]
  },
  {
   "cell_type": "markdown",
   "metadata": {},
   "source": [
    "Чтобы продемонстрировать использование нечеткого хеширования, рассмотрим в качестве примера директорию, состоящую из трех образцов вредоносного ПО. \n",
    "\n",
    "В следующем фрагменте кода видно, что все три файла имеют совершенно разные значения хеш-функций MD5:"
   ]
  },
  {
   "cell_type": "code",
   "execution_count": 2,
   "metadata": {},
   "outputs": [
    {
     "name": "stdout",
     "output_type": "stream",
     "text": [
      "main_01.c  main_03.c  test_01  test_03\r\n",
      "main_02.c  test       test_02  нечеткое хеширование.ipynb\r\n"
     ]
    }
   ],
   "source": [
    "!ls"
   ]
  },
  {
   "cell_type": "code",
   "execution_count": 5,
   "metadata": {},
   "outputs": [
    {
     "name": "stdout",
     "output_type": "stream",
     "text": [
      "7c2c629a6b03a1db0ad5f168c29317a3  test_01\r\n",
      "f8da20d939b7f10d2de94c22cf28f7dd  test_02\r\n",
      "aca771dc841b399b8dfb66fcdaae130d  test_03\r\n"
     ]
    }
   ],
   "source": [
    "!md5sum test_01 test_02 test_03"
   ]
  },
  {
   "cell_type": "markdown",
   "metadata": {},
   "source": [
    "Режим изящного сравнения (опция -p) в ssdeep может использоваться для определения процентного сходства. Из трех образцов два имеют сходство 93%, что предполагает, что они, вероятно, принадлежат к одному и тому же семейству вредоносных программ:"
   ]
  },
  {
   "cell_type": "code",
   "execution_count": 6,
   "metadata": {},
   "outputs": [
    {
     "name": "stdout",
     "output_type": "stream",
     "text": [
      "test_02 matches test_03 (93)\r\n",
      "\r\n",
      "test_03 matches test_02 (93)\r\n",
      "\r\n"
     ]
    }
   ],
   "source": [
    "!ssdeep -pb test_01 test_02 test_03"
   ]
  },
  {
   "cell_type": "markdown",
   "metadata": {},
   "source": [
    "Как показано в предыдущем примере, криптографические хеш-функции не помогли установить связь между образцами, тогда как метод нечеткого хеширования выявил сходство. \n",
    "\n",
    "Можно запустить ssdeep для каталогов и подкаталогов, содержащих вредоносные образцы, используя рекурсивный режим (-r):"
   ]
  },
  {
   "cell_type": "code",
   "execution_count": 7,
   "metadata": {},
   "outputs": [],
   "source": [
    "#ssdeep -lrpa samples/"
   ]
  },
  {
   "cell_type": "markdown",
   "metadata": {},
   "source": [
    "В следующем примере ssdeep-хеши всех файлов были перенаправлены в текстовый файл (all_hashes.txt), а затем подозрительный файл (test_03) сопоставляется со всеми хешами в файле: "
   ]
  },
  {
   "cell_type": "code",
   "execution_count": 8,
   "metadata": {},
   "outputs": [],
   "source": [
    "!ssdeep test_01 test_02 test_03 > all_hashes.txt"
   ]
  },
  {
   "cell_type": "code",
   "execution_count": 9,
   "metadata": {},
   "outputs": [
    {
     "name": "stdout",
     "output_type": "stream",
     "text": [
      "ssdeep,1.1--blocksize:hash:hash,filename\r\n",
      "96:RZTWB6WBilMGIlZIpMRiUHs9ga7fNuB3eoBqSitrqN:RZ6oWQMZMpLrI4osSi,\"/home/dmf/new_github/infosec/re-tools/test_01\"\r\n",
      "96:RIXTekB6WBn+ZZS9+MRSM8vKk7fAuBWeoBqSAXLgj:RIX9oWgZS9+bz7xosSA,\"/home/dmf/new_github/infosec/re-tools/test_02\"\r\n",
      "96:RIXTtB6WBn+ZZSg+MRSM8vKk7fXuBWeoBqSAXLgj:RIXRoWgZSg+bzyxosSA,\"/home/dmf/new_github/infosec/re-tools/test_03\"\r\n"
     ]
    }
   ],
   "source": [
    "!cat all_hashes.txt"
   ]
  },
  {
   "cell_type": "markdown",
   "metadata": {},
   "source": [
    "В следующем фрагменте кода видно, что подозрительный файл (test_03) идентичен test_03 (соответствие – 100%) и имеет сходство 93% с test_02. Можно использовать этот метод для сравнения любого нового файла с хешами ранее проанализированных образцов:"
   ]
  },
  {
   "cell_type": "code",
   "execution_count": 10,
   "metadata": {},
   "outputs": [
    {
     "name": "stdout",
     "output_type": "stream",
     "text": [
      "/home/dmf/new_github/infosec/re-tools/test_03 matches all_hashes.txt:/home/dmf/new_github/infosec/re-tools/test_02 (93)\r\n",
      "/home/dmf/new_github/infosec/re-tools/test_03 matches all_hashes.txt:/home/dmf/new_github/infosec/re-tools/test_03 (100)\r\n"
     ]
    }
   ],
   "source": [
    "!ssdeep -m all_hashes.txt test_03"
   ]
  },
  {
   "cell_type": "markdown",
   "metadata": {},
   "source": [
    "В Python нечеткий хеш может быть вычислен с использованием python-ssdeep:"
   ]
  },
  {
   "cell_type": "code",
   "execution_count": 12,
   "metadata": {},
   "outputs": [
    {
     "name": "stdout",
     "output_type": "stream",
     "text": [
      "Collecting ssdeep\n",
      "  Using cached ssdeep-3.4.tar.gz (110 kB)\n",
      "Requirement already satisfied: cffi>=0.8.6 in /home/dmf/anaconda3/lib/python3.7/site-packages (from ssdeep) (1.14.0)\n",
      "Requirement already satisfied: six>=1.4.1 in /home/dmf/anaconda3/lib/python3.7/site-packages (from ssdeep) (1.15.0)\n",
      "Requirement already satisfied: pycparser in /home/dmf/anaconda3/lib/python3.7/site-packages (from cffi>=0.8.6->ssdeep) (2.20)\n",
      "Building wheels for collected packages: ssdeep\n",
      "  Building wheel for ssdeep (setup.py) ... \u001b[?25ldone\n",
      "\u001b[?25h  Created wheel for ssdeep: filename=ssdeep-3.4-cp37-cp37m-linux_x86_64.whl size=40172 sha256=0fbc5a279e91bca0366f3457f125ebd022f68795ce5cac4a8bfb2c5568e975d7\n",
      "  Stored in directory: /home/dmf/.cache/pip/wheels/4a/a4/39/73512b7516c4a7245d806e51fd10d071d26f50095604f4f822\n",
      "Successfully built ssdeep\n",
      "Installing collected packages: ssdeep\n",
      "Successfully installed ssdeep-3.4\n"
     ]
    }
   ],
   "source": [
    "#!pip3 install ssdeep"
   ]
  },
  {
   "cell_type": "code",
   "execution_count": 15,
   "metadata": {},
   "outputs": [
    {
     "name": "stdout",
     "output_type": "stream",
     "text": [
      "96:RIXTtB6WBn+ZZSg+MRSM8vKk7fXuBWeoBqSAXLgj:RIXRoWgZSg+bzyxosSA\n"
     ]
    }
   ],
   "source": [
    "import ssdeep\n",
    "hash1 = ssdeep.hash_from_file('test_03')\n",
    "print(hash1)"
   ]
  },
  {
   "cell_type": "code",
   "execution_count": 16,
   "metadata": {},
   "outputs": [
    {
     "name": "stdout",
     "output_type": "stream",
     "text": [
      "96:RIXTekB6WBn+ZZS9+MRSM8vKk7fAuBWeoBqSAXLgj:RIX9oWgZS9+bz7xosSA\n"
     ]
    }
   ],
   "source": [
    "hash2 = ssdeep.hash_from_file('test_02')\n",
    "print(hash2)"
   ]
  },
  {
   "cell_type": "code",
   "execution_count": 17,
   "metadata": {},
   "outputs": [
    {
     "data": {
      "text/plain": [
       "93"
      ]
     },
     "execution_count": 17,
     "metadata": {},
     "output_type": "execute_result"
    }
   ],
   "source": [
    "ssdeep.compare(hash1, hash2)"
   ]
  },
  {
   "cell_type": "code",
   "execution_count": null,
   "metadata": {},
   "outputs": [],
   "source": []
  }
 ],
 "metadata": {
  "kernelspec": {
   "display_name": "Python 3",
   "language": "python",
   "name": "python3"
  },
  "language_info": {
   "codemirror_mode": {
    "name": "ipython",
    "version": 3
   },
   "file_extension": ".py",
   "mimetype": "text/x-python",
   "name": "python",
   "nbconvert_exporter": "python",
   "pygments_lexer": "ipython3",
   "version": "3.7.3"
  }
 },
 "nbformat": 4,
 "nbformat_minor": 4
}
