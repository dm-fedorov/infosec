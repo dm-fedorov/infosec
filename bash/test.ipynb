{
 "cells": [
  {
   "cell_type": "code",
   "execution_count": 10,
   "metadata": {},
   "outputs": [
    {
     "name": "stdout",
     "output_type": "stream",
     "text": [
      "итого 8\n",
      "-rw-r--r-- 1 dmf dmf  119 авг 14 21:38 README.md\n",
      "-rw-r--r-- 1 dmf dmf 1889 авг 14 21:49 test.ipynb\n"
     ]
    }
   ],
   "source": [
    "ls -l"
   ]
  },
  {
   "cell_type": "code",
   "execution_count": 8,
   "metadata": {},
   "outputs": [
    {
     "name": "stdout",
     "output_type": "stream",
     "text": [
      "итого 20\n",
      "drwxr-xr-x 3 dmf dmf 4096 авг 14 21:46 \u001b[0m\u001b[01;34m.\u001b[0m\n",
      "drwxr-xr-x 8 dmf dmf 4096 авг 14 21:30 \u001b[01;34m..\u001b[0m\n",
      "drwxr-xr-x 2 dmf dmf 4096 авг 14 21:37 \u001b[01;34m.ipynb_checkpoints\u001b[0m\n",
      "-rw-r--r-- 1 dmf dmf  119 авг 14 21:38 README.md\n",
      "-rw-r--r-- 1 dmf dmf 1428 авг 14 21:46 test.ipynb\n"
     ]
    }
   ],
   "source": [
    "ls -la"
   ]
  },
  {
   "cell_type": "code",
   "execution_count": null,
   "metadata": {},
   "outputs": [],
   "source": []
  },
  {
   "cell_type": "code",
   "execution_count": null,
   "metadata": {},
   "outputs": [],
   "source": []
  },
  {
   "cell_type": "code",
   "execution_count": null,
   "metadata": {},
   "outputs": [],
   "source": []
  },
  {
   "cell_type": "code",
   "execution_count": null,
   "metadata": {},
   "outputs": [],
   "source": []
  }
 ],
 "metadata": {
  "kernelspec": {
   "display_name": "Bash",
   "language": "bash",
   "name": "bash"
  },
  "language_info": {
   "codemirror_mode": "shell",
   "file_extension": ".sh",
   "mimetype": "text/x-sh",
   "name": "bash"
  }
 },
 "nbformat": 4,
 "nbformat_minor": 4
}
