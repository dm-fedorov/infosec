{
 "cells": [
  {
   "cell_type": "markdown",
   "metadata": {},
   "source": [
    "Прочитать заголовок файла:"
   ]
  },
  {
   "cell_type": "code",
   "execution_count": 6,
   "metadata": {},
   "outputs": [
    {
     "name": "stdout",
     "output_type": "stream",
     "text": [
      "Заголовок ELF:\n",
      "  Magic:   7f 45 4c 46 02 01 01 00 00 00 00 00 00 00 00 00 \n",
      "  Класс:                             ELF64\n",
      "  Данные:                            дополнение до 2, little endian\n",
      "  Версия:                            1 (current)\n",
      "  OS/ABI:                            UNIX - System V\n",
      "  Версия ABI:                        0\n",
      "  Тип:                               DYN (Совм. исп. объектный файл)\n",
      "  Машина:                            Advanced Micro Devices X86-64\n",
      "  Версия:                            0x1\n",
      "  Адрес точки входа:               0x1070\n",
      "  Начало заголовков программы:          64 (байт в файле)\n",
      "  Начало заголовков программы:          14800 (байт в файле)\n",
      "  Флаги:                             0x0\n",
      "  Размер этого заголовка:            64 (байт)\n",
      "  Размер заголовков программы:       56 (байт)\n",
      "  Число заголовков программы:        11\n",
      "  Размер заголовков раздела:         64 (байт)\n",
      "  Число заголовков раздела:          30\n",
      "  Индекс табл. строк загол. раздела: 29\n"
     ]
    }
   ],
   "source": [
    "!readelf -h simple"
   ]
  },
  {
   "cell_type": "markdown",
   "metadata": {},
   "source": [
    "Прочитать информацию о сегментах и секциях:"
   ]
  },
  {
   "cell_type": "code",
   "execution_count": 7,
   "metadata": {},
   "outputs": [
    {
     "name": "stdout",
     "output_type": "stream",
     "text": [
      "\n",
      "Тип файла ELF — DYN (Совм. исп. объектный файл)\n",
      "Точка входа 0x1070\n",
      "Имеется 11 заголовков программы, начиная со смещения 64\n",
      "\n",
      "Заголовки программы:\n",
      "  Тип            Смещ.    Вирт.адр           Физ.адр            Рзм.фйл  Рзм.пм   Флг Выравн\n",
      "  PHDR           0x000040 0x0000000000000040 0x0000000000000040 0x000268 0x000268 R   0x8\n",
      "  INTERP         0x0002a8 0x00000000000002a8 0x00000000000002a8 0x00001c 0x00001c R   0x1\n",
      "      [Requesting program interpreter: /lib64/ld-linux-x86-64.so.2]\n",
      "  LOAD           0x000000 0x0000000000000000 0x0000000000000000 0x0005f8 0x0005f8 R   0x1000\n",
      "  LOAD           0x001000 0x0000000000001000 0x0000000000001000 0x00026d 0x00026d R E 0x1000\n",
      "  LOAD           0x002000 0x0000000000002000 0x0000000000002000 0x0001b8 0x0001b8 R   0x1000\n",
      "  LOAD           0x002de8 0x0000000000003de8 0x0000000000003de8 0x000258 0x000260 RW  0x1000\n",
      "  DYNAMIC        0x002df8 0x0000000000003df8 0x0000000000003df8 0x0001e0 0x0001e0 RW  0x8\n",
      "  NOTE           0x0002c4 0x00000000000002c4 0x00000000000002c4 0x000044 0x000044 R   0x4\n",
      "  GNU_EH_FRAME   0x002070 0x0000000000002070 0x0000000000002070 0x00003c 0x00003c R   0x4\n",
      "  GNU_STACK      0x000000 0x0000000000000000 0x0000000000000000 0x000000 0x000000 RW  0x10\n",
      "  GNU_RELRO      0x002de8 0x0000000000003de8 0x0000000000003de8 0x000218 0x000218 R   0x1\n",
      "\n",
      " Соответствие раздел-сегмент:\n",
      "  Сегмент Разделы...\n",
      "   00     \n",
      "   01     .interp \n",
      "   02     .interp .note.ABI-tag .note.gnu.build-id .gnu.hash .dynsym .dynstr .gnu.version .gnu.version_r .rela.dyn .rela.plt \n",
      "   03     .init .plt .plt.got .text .fini \n",
      "   04     .rodata .eh_frame_hdr .eh_frame \n",
      "   05     .init_array .fini_array .dynamic .got .got.plt .data .bss \n",
      "   06     .dynamic \n",
      "   07     .note.ABI-tag .note.gnu.build-id \n",
      "   08     .eh_frame_hdr \n",
      "   09     \n",
      "   10     .init_array .fini_array .dynamic .got \n"
     ]
    }
   ],
   "source": [
    "!readelf -l -W simple"
   ]
  },
  {
   "cell_type": "markdown",
   "metadata": {},
   "source": [
    "Прочитать информацию о секциях:"
   ]
  },
  {
   "cell_type": "code",
   "execution_count": 8,
   "metadata": {},
   "outputs": [
    {
     "name": "stdout",
     "output_type": "stream",
     "text": [
      "Имеется 30 заголовков раздела, начиная со смещения 0x39d0:\n",
      "\n",
      "Заголовки разделов:\n",
      "  [Нм] Имя               Тип             Адрес            Смещ   Разм   ES Флг Лк Инф Al\n",
      "  [ 0]                   NULL            0000000000000000 000000 000000 00      0   0  0\n",
      "  [ 1] .interp           PROGBITS        00000000000002a8 0002a8 00001c 00   A  0   0  1\n",
      "  [ 2] .note.ABI-tag     NOTE            00000000000002c4 0002c4 000020 00   A  0   0  4\n",
      "  [ 3] .note.gnu.build-id NOTE            00000000000002e4 0002e4 000024 00   A  0   0  4\n",
      "  [ 4] .gnu.hash         GNU_HASH        0000000000000308 000308 000024 00   A  5   0  8\n",
      "  [ 5] .dynsym           DYNSYM          0000000000000330 000330 0000d8 18   A  6   1  8\n",
      "  [ 6] .dynstr           STRTAB          0000000000000408 000408 0000a2 00   A  0   0  1\n",
      "  [ 7] .gnu.version      VERSYM          00000000000004aa 0004aa 000012 02   A  5   0  2\n",
      "  [ 8] .gnu.version_r    VERNEED         00000000000004c0 0004c0 000030 00   A  6   1  8\n",
      "  [ 9] .rela.dyn         RELA            00000000000004f0 0004f0 0000c0 18   A  5   0  8\n",
      "  [10] .rela.plt         RELA            00000000000005b0 0005b0 000048 18  AI  5  23  8\n",
      "  [11] .init             PROGBITS        0000000000001000 001000 000017 00  AX  0   0  4\n",
      "  [12] .plt              PROGBITS        0000000000001020 001020 000040 10  AX  0   0 16\n",
      "  [13] .plt.got          PROGBITS        0000000000001060 001060 000008 08  AX  0   0  8\n",
      "  [14] .text             PROGBITS        0000000000001070 001070 0001f2 00  AX  0   0 16\n",
      "  [15] .fini             PROGBITS        0000000000001264 001264 000009 00  AX  0   0  4\n",
      "  [16] .rodata           PROGBITS        0000000000002000 002000 000070 00   A  0   0  8\n",
      "  [17] .eh_frame_hdr     PROGBITS        0000000000002070 002070 00003c 00   A  0   0  4\n",
      "  [18] .eh_frame         PROGBITS        00000000000020b0 0020b0 000108 00   A  0   0  8\n",
      "  [19] .init_array       INIT_ARRAY      0000000000003de8 002de8 000008 08  WA  0   0  8\n",
      "  [20] .fini_array       FINI_ARRAY      0000000000003df0 002df0 000008 08  WA  0   0  8\n",
      "  [21] .dynamic          DYNAMIC         0000000000003df8 002df8 0001e0 10  WA  6   0  8\n",
      "  [22] .got              PROGBITS        0000000000003fd8 002fd8 000028 08  WA  0   0  8\n",
      "  [23] .got.plt          PROGBITS        0000000000004000 003000 000030 08  WA  0   0  8\n",
      "  [24] .data             PROGBITS        0000000000004030 003030 000010 00  WA  0   0  8\n",
      "  [25] .bss              NOBITS          0000000000004040 003040 000008 00  WA  0   0  1\n",
      "  [26] .comment          PROGBITS        0000000000000000 003040 00001c 01  MS  0   0  1\n",
      "  [27] .symtab           SYMTAB          0000000000000000 003060 000630 18     28  44  8\n",
      "  [28] .strtab           STRTAB          0000000000000000 003690 000232 00      0   0  1\n",
      "  [29] .shstrtab         STRTAB          0000000000000000 0038c2 000107 00      0   0  1\n",
      "Key to Flags:\n",
      "  W (write), A (alloc), X (execute), M (merge), S (strings), I (info),\n",
      "  L (link order), O (extra OS processing required), G (group), T (TLS),\n",
      "  C (compressed), x (unknown), o (OS specific), E (exclude),\n",
      "  l (large), p (processor specific)\n"
     ]
    }
   ],
   "source": [
    "!readelf -S -W simple"
   ]
  },
  {
   "cell_type": "markdown",
   "metadata": {},
   "source": [
    "Прочитать информацию о символах (-W нужна для увеличения ширины консольного вывода, по умолчанию, 80 символов):"
   ]
  },
  {
   "cell_type": "code",
   "execution_count": 9,
   "metadata": {},
   "outputs": [
    {
     "name": "stdout",
     "output_type": "stream",
     "text": [
      "\n",
      "Таблица символов «.dynsym» содержит 9 элементов:\n",
      "   Чис:    Знач           Разм Тип     Связ   Vis      Индекс имени\n",
      "     0: 0000000000000000     0 NOTYPE  LOCAL  DEFAULT  UND \n",
      "     1: 0000000000000000     0 NOTYPE  WEAK   DEFAULT  UND _ITM_deregisterTMCloneTable\n",
      "     2: 0000000000000000     0 FUNC    GLOBAL DEFAULT  UND puts@GLIBC_2.2.5 (2)\n",
      "     3: 0000000000000000     0 FUNC    GLOBAL DEFAULT  UND printf@GLIBC_2.2.5 (2)\n",
      "     4: 0000000000000000     0 FUNC    GLOBAL DEFAULT  UND __libc_start_main@GLIBC_2.2.5 (2)\n",
      "     5: 0000000000000000     0 NOTYPE  WEAK   DEFAULT  UND __gmon_start__\n",
      "     6: 0000000000000000     0 FUNC    GLOBAL DEFAULT  UND __isoc99_scanf@GLIBC_2.7 (3)\n",
      "     7: 0000000000000000     0 NOTYPE  WEAK   DEFAULT  UND _ITM_registerTMCloneTable\n",
      "     8: 0000000000000000     0 FUNC    WEAK   DEFAULT  UND __cxa_finalize@GLIBC_2.2.5 (2)\n",
      "\n",
      "Таблица символов «.symtab» содержит 66 элементов:\n",
      "   Чис:    Знач           Разм Тип     Связ   Vis      Индекс имени\n",
      "     0: 0000000000000000     0 NOTYPE  LOCAL  DEFAULT  UND \n",
      "     1: 00000000000002a8     0 SECTION LOCAL  DEFAULT    1 \n",
      "     2: 00000000000002c4     0 SECTION LOCAL  DEFAULT    2 \n",
      "     3: 00000000000002e4     0 SECTION LOCAL  DEFAULT    3 \n",
      "     4: 0000000000000308     0 SECTION LOCAL  DEFAULT    4 \n",
      "     5: 0000000000000330     0 SECTION LOCAL  DEFAULT    5 \n",
      "     6: 0000000000000408     0 SECTION LOCAL  DEFAULT    6 \n",
      "     7: 00000000000004aa     0 SECTION LOCAL  DEFAULT    7 \n",
      "     8: 00000000000004c0     0 SECTION LOCAL  DEFAULT    8 \n",
      "     9: 00000000000004f0     0 SECTION LOCAL  DEFAULT    9 \n",
      "    10: 00000000000005b0     0 SECTION LOCAL  DEFAULT   10 \n",
      "    11: 0000000000001000     0 SECTION LOCAL  DEFAULT   11 \n",
      "    12: 0000000000001020     0 SECTION LOCAL  DEFAULT   12 \n",
      "    13: 0000000000001060     0 SECTION LOCAL  DEFAULT   13 \n",
      "    14: 0000000000001070     0 SECTION LOCAL  DEFAULT   14 \n",
      "    15: 0000000000001264     0 SECTION LOCAL  DEFAULT   15 \n",
      "    16: 0000000000002000     0 SECTION LOCAL  DEFAULT   16 \n",
      "    17: 0000000000002070     0 SECTION LOCAL  DEFAULT   17 \n",
      "    18: 00000000000020b0     0 SECTION LOCAL  DEFAULT   18 \n",
      "    19: 0000000000003de8     0 SECTION LOCAL  DEFAULT   19 \n",
      "    20: 0000000000003df0     0 SECTION LOCAL  DEFAULT   20 \n",
      "    21: 0000000000003df8     0 SECTION LOCAL  DEFAULT   21 \n",
      "    22: 0000000000003fd8     0 SECTION LOCAL  DEFAULT   22 \n",
      "    23: 0000000000004000     0 SECTION LOCAL  DEFAULT   23 \n",
      "    24: 0000000000004030     0 SECTION LOCAL  DEFAULT   24 \n",
      "    25: 0000000000004040     0 SECTION LOCAL  DEFAULT   25 \n",
      "    26: 0000000000000000     0 SECTION LOCAL  DEFAULT   26 \n",
      "    27: 0000000000000000     0 FILE    LOCAL  DEFAULT  ABS crtstuff.c\n",
      "    28: 00000000000010a0     0 FUNC    LOCAL  DEFAULT   14 deregister_tm_clones\n",
      "    29: 00000000000010d0     0 FUNC    LOCAL  DEFAULT   14 register_tm_clones\n",
      "    30: 0000000000001110     0 FUNC    LOCAL  DEFAULT   14 __do_global_dtors_aux\n",
      "    31: 0000000000004040     1 OBJECT  LOCAL  DEFAULT   25 completed.7389\n",
      "    32: 0000000000003df0     0 OBJECT  LOCAL  DEFAULT   20 __do_global_dtors_aux_fini_array_entry\n",
      "    33: 0000000000001150     0 FUNC    LOCAL  DEFAULT   14 frame_dummy\n",
      "    34: 0000000000003de8     0 OBJECT  LOCAL  DEFAULT   19 __frame_dummy_init_array_entry\n",
      "    35: 0000000000000000     0 FILE    LOCAL  DEFAULT  ABS simple.c\n",
      "    36: 0000000000000000     0 FILE    LOCAL  DEFAULT  ABS crtstuff.c\n",
      "    37: 00000000000021b4     0 OBJECT  LOCAL  DEFAULT   18 __FRAME_END__\n",
      "    38: 0000000000000000     0 FILE    LOCAL  DEFAULT  ABS \n",
      "    39: 0000000000003df0     0 NOTYPE  LOCAL  DEFAULT   19 __init_array_end\n",
      "    40: 0000000000003df8     0 OBJECT  LOCAL  DEFAULT   21 _DYNAMIC\n",
      "    41: 0000000000003de8     0 NOTYPE  LOCAL  DEFAULT   19 __init_array_start\n",
      "    42: 0000000000002070     0 NOTYPE  LOCAL  DEFAULT   17 __GNU_EH_FRAME_HDR\n",
      "    43: 0000000000004000     0 OBJECT  LOCAL  DEFAULT   23 _GLOBAL_OFFSET_TABLE_\n",
      "    44: 0000000000001260     2 FUNC    GLOBAL DEFAULT   14 __libc_csu_fini\n",
      "    45: 0000000000000000     0 NOTYPE  WEAK   DEFAULT  UND _ITM_deregisterTMCloneTable\n",
      "    46: 0000000000004030     0 NOTYPE  WEAK   DEFAULT   24 data_start\n",
      "    47: 0000000000000000     0 FUNC    GLOBAL DEFAULT  UND puts@@GLIBC_2.2.5\n",
      "    48: 0000000000004040     0 NOTYPE  GLOBAL DEFAULT   24 _edata\n",
      "    49: 0000000000001264     0 FUNC    GLOBAL DEFAULT   15 _fini\n",
      "    50: 0000000000000000     0 FUNC    GLOBAL DEFAULT  UND printf@@GLIBC_2.2.5\n",
      "    51: 0000000000000000     0 FUNC    GLOBAL DEFAULT  UND __libc_start_main@@GLIBC_2.2.5\n",
      "    52: 0000000000004030     0 NOTYPE  GLOBAL DEFAULT   24 __data_start\n",
      "    53: 0000000000000000     0 NOTYPE  WEAK   DEFAULT  UND __gmon_start__\n",
      "    54: 0000000000004038     0 OBJECT  GLOBAL HIDDEN    24 __dso_handle\n",
      "    55: 0000000000002000     4 OBJECT  GLOBAL DEFAULT   16 _IO_stdin_used\n",
      "    56: 00000000000011f0   101 FUNC    GLOBAL DEFAULT   14 __libc_csu_init\n",
      "    57: 0000000000004048     0 NOTYPE  GLOBAL DEFAULT   25 _end\n",
      "    58: 0000000000001070    43 FUNC    GLOBAL DEFAULT   14 _start\n",
      "    59: 0000000000004040     0 NOTYPE  GLOBAL DEFAULT   25 __bss_start\n",
      "    60: 0000000000001155   151 FUNC    GLOBAL DEFAULT   14 main\n",
      "    61: 0000000000000000     0 FUNC    GLOBAL DEFAULT  UND __isoc99_scanf@@GLIBC_2.7\n",
      "    62: 0000000000004040     0 OBJECT  GLOBAL HIDDEN    24 __TMC_END__\n",
      "    63: 0000000000000000     0 NOTYPE  WEAK   DEFAULT  UND _ITM_registerTMCloneTable\n",
      "    64: 0000000000000000     0 FUNC    WEAK   DEFAULT  UND __cxa_finalize@@GLIBC_2.2.5\n",
      "    65: 0000000000001000     0 FUNC    GLOBAL DEFAULT   11 _init\n"
     ]
    }
   ],
   "source": [
    "!readelf -s -W simple"
   ]
  },
  {
   "cell_type": "markdown",
   "metadata": {},
   "source": [
    "Прочитать заголовок и информацию о секциях можно с использованием кода на Python и библиотеки [LIEF](https://github.com/lief-project/LIEF). \n",
    "\n",
    "Документация про Python и ELF [здесь](https://lief.quarkslab.com/doc/latest/tutorials/01_play_with_formats.html#elf)."
   ]
  },
  {
   "cell_type": "code",
   "execution_count": null,
   "metadata": {},
   "outputs": [],
   "source": [
    "#!pip3 install lief"
   ]
  },
  {
   "cell_type": "code",
   "execution_count": 13,
   "metadata": {},
   "outputs": [
    {
     "name": "stdout",
     "output_type": "stream",
     "text": [
      "Makefile  prog1  prog1.c  prog2.c  prog3.c  simple  Untitled.ipynb\n"
     ]
    }
   ],
   "source": [
    "!ls"
   ]
  },
  {
   "cell_type": "code",
   "execution_count": 16,
   "metadata": {},
   "outputs": [
    {
     "name": "stdout",
     "output_type": "stream",
     "text": [
      "\n",
      ".interp\n",
      ".note.ABI-tag\n",
      ".note.gnu.build-id\n",
      ".gnu.hash\n",
      ".dynsym\n",
      ".dynstr\n",
      ".gnu.version\n",
      ".gnu.version_r\n",
      ".rela.dyn\n",
      ".rela.plt\n",
      ".init\n",
      ".plt\n",
      ".plt.got\n",
      ".text\n",
      ".fini\n",
      ".rodata\n",
      ".eh_frame_hdr\n",
      ".eh_frame\n",
      ".init_array\n",
      ".fini_array\n",
      ".dynamic\n",
      ".got\n",
      ".got.plt\n",
      ".data\n",
      ".bss\n",
      ".comment\n",
      ".symtab\n",
      ".strtab\n",
      ".shstrtab\n"
     ]
    }
   ],
   "source": [
    "import lief\n",
    "\n",
    "binary = lief.parse(\"simple\")\n",
    "for section in binary.sections:\n",
    "    print(section.name) # имена секций  "
   ]
  },
  {
   "cell_type": "markdown",
   "metadata": {},
   "source": [
    "Для получения информации о компиляторе и сборке следует смотреть секции .comment и .note."
   ]
  },
  {
   "cell_type": "code",
   "execution_count": 17,
   "metadata": {},
   "outputs": [
    {
     "name": "stdout",
     "output_type": "stream",
     "text": [
      "\n",
      "simple:     формат файла elf64-x86-64\n",
      "\n",
      "Содержимое раздела .comment:\n",
      " 0000 4743433a 20284465 6269616e 20382e32  GCC: (Debian 8.2\n",
      " 0010 2e302d39 2920382e 322e3000           .0-9) 8.2.0.    \n"
     ]
    }
   ],
   "source": [
    "!objdump -s --section .comment simple"
   ]
  },
  {
   "cell_type": "code",
   "execution_count": 18,
   "metadata": {},
   "outputs": [
    {
     "name": "stdout",
     "output_type": "stream",
     "text": [
      "\n",
      "Строковый дамп раздела '.comment':\n",
      "  [     0]  GCC: (Debian 8.2.0-9) 8.2.0\n",
      "\n"
     ]
    }
   ],
   "source": [
    "!readelf -p .comment simple"
   ]
  },
  {
   "cell_type": "code",
   "execution_count": 19,
   "metadata": {},
   "outputs": [
    {
     "name": "stdout",
     "output_type": "stream",
     "text": [
      "\n",
      "Displaying notes found in: .note.ABI-tag\n",
      "  Владелец     Размер данных\tОписание\n",
      "  GNU                  0x00000010\tNT_GNU_ABI_TAG (метка версии ABI)\n",
      "    ОС: Linux, ABI: 3.2.0\n",
      "\n",
      "Displaying notes found in: .note.gnu.build-id\n",
      "  Владелец     Размер данных\tОписание\n",
      "  GNU                  0x00000014\tNT_GNU_BUILD_ID (уникальный ID битовой строки сборки)\n",
      "    ID сборки: dae0509e4edb79719a65af37962b74e4cf2a8c2e\n"
     ]
    }
   ],
   "source": [
    "!readelf -n simple"
   ]
  },
  {
   "cell_type": "code",
   "execution_count": 20,
   "metadata": {},
   "outputs": [
    {
     "name": "stdout",
     "output_type": "stream",
     "text": [
      "Comment:  b'GCC: (Debian 8.2.0-9) 8.2.0\\x00'\n"
     ]
    }
   ],
   "source": [
    "import lief\n",
    "\n",
    "binary = lief.parse(\"simple\")\n",
    "comment = binary.get_section(\".comment\")\n",
    "print(\"Comment: \", bytes(comment.content))"
   ]
  },
  {
   "cell_type": "code",
   "execution_count": null,
   "metadata": {},
   "outputs": [],
   "source": [
    "# Далее: https://habr.com/ru/company/inforion/blog/460247/"
   ]
  },
  {
   "cell_type": "markdown",
   "metadata": {},
   "source": [
    "[pwntools](http://docs.pwntools.com/en/latest/globals.html) предоставляет [функциональность](http://docs.pwntools.com/en/latest/elf/elf.html) для управления файлами ELF. \n",
    "\n",
    "Не дружит с Jupyter ;("
   ]
  },
  {
   "cell_type": "code",
   "execution_count": null,
   "metadata": {},
   "outputs": [],
   "source": [
    "#!pip3 install pwntools"
   ]
  },
  {
   "cell_type": "markdown",
   "metadata": {},
   "source": [
    "[pyelftools](https://github.com/eliben/pyelftools) - это библиотека на чистом Python для анализа и анализа файлов ELF. Можно встраивать в собственный код, примерый [тут](https://github.com/eliben/pyelftools/tree/master/examples)."
   ]
  },
  {
   "cell_type": "code",
   "execution_count": null,
   "metadata": {},
   "outputs": [],
   "source": [
    "#!pip3 install pyelftools"
   ]
  },
  {
   "cell_type": "markdown",
   "metadata": {},
   "source": [
    "[capstone](http://www.capstone-engine.org/) - фреймворк для дизассемблирования"
   ]
  },
  {
   "cell_type": "code",
   "execution_count": 21,
   "metadata": {},
   "outputs": [
    {
     "name": "stdout",
     "output_type": "stream",
     "text": [
      "Requirement already satisfied: capstone in /home/dmf/anaconda3/lib/python3.7/site-packages (4.0.2)\n"
     ]
    }
   ],
   "source": [
    "#!pip3 install capstone"
   ]
  },
  {
   "cell_type": "code",
   "execution_count": null,
   "metadata": {},
   "outputs": [],
   "source": [
    "# см. https://icyphox.sh/blog/python-for-re-1/"
   ]
  }
 ],
 "metadata": {
  "kernelspec": {
   "display_name": "Python 3",
   "language": "python",
   "name": "python3"
  },
  "language_info": {
   "codemirror_mode": {
    "name": "ipython",
    "version": 3
   },
   "file_extension": ".py",
   "mimetype": "text/x-python",
   "name": "python",
   "nbconvert_exporter": "python",
   "pygments_lexer": "ipython3",
   "version": "3.7.3"
  }
 },
 "nbformat": 4,
 "nbformat_minor": 4
}
