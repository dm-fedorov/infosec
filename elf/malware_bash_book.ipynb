{
 "cells": [
  {
   "cell_type": "markdown",
   "metadata": {},
   "source": [
    "Статический и динамический анализ кода."
   ]
  },
  {
   "cell_type": "markdown",
   "metadata": {},
   "source": [
    "Утилита [curl](https://curl.haxx.se/) для передачи данных по сети между клиентом и сервером (HTTP, HTTPS, FTP, SFTP, Telnet)."
   ]
  },
  {
   "cell_type": "code",
   "execution_count": null,
   "metadata": {},
   "outputs": [],
   "source": [
    "!curl --help"
   ]
  },
  {
   "cell_type": "code",
   "execution_count": 6,
   "metadata": {},
   "outputs": [
    {
     "name": "stdout",
     "output_type": "stream",
     "text": [
      "  % Total    % Received % Xferd  Average Speed   Time    Time     Time  Current\n",
      "                                 Dload  Upload   Total   Spent    Left  Speed\n",
      "100 57151  100 57151    0     0   196k      0 --:--:-- --:--:-- --:--:--  196k\n"
     ]
    }
   ],
   "source": [
    "!curl https://ya.ru/ > ya.site"
   ]
  },
  {
   "cell_type": "markdown",
   "metadata": {},
   "source": [
    "Сохранить в файле:"
   ]
  },
  {
   "cell_type": "code",
   "execution_count": null,
   "metadata": {},
   "outputs": [],
   "source": [
    "!curl \"http://dfedorov.spb.ru/science.html\" -o \"sci.html\""
   ]
  },
  {
   "cell_type": "markdown",
   "metadata": {},
   "source": [
    "Разворачиваем URL:"
   ]
  },
  {
   "cell_type": "code",
   "execution_count": null,
   "metadata": {},
   "outputs": [],
   "source": [
    "!curl -ILs \"http://bitly.com/1k5eYPw\" | grep '^Location:'"
   ]
  },
  {
   "cell_type": "code",
   "execution_count": 15,
   "metadata": {},
   "outputs": [
    {
     "data": {
      "text/plain": [
       "IPython.utils.text.SList"
      ]
     },
     "execution_count": 15,
     "metadata": {},
     "output_type": "execute_result"
    }
   ],
   "source": [
    "txt = !cat ya.site \n",
    "type(txt)"
   ]
  },
  {
   "cell_type": "code",
   "execution_count": 18,
   "metadata": {},
   "outputs": [
    {
     "data": {
      "text/plain": [
       "'TYPE html><html class=\"i-ua_js_no i-ua_css_standart i-ua_browser_unknown i-ua_browser-engine_un'"
      ]
     },
     "execution_count": 18,
     "metadata": {},
     "output_type": "execute_result"
    }
   ],
   "source": [
    "txt[0][5:100]"
   ]
  },
  {
   "cell_type": "markdown",
   "metadata": {},
   "source": [
    "[xxd](https://www.opennet.ru/man.shtml?topic=xxd&category=1&russian=0) выводит файл в двоичном или hex формате."
   ]
  },
  {
   "cell_type": "code",
   "execution_count": 19,
   "metadata": {},
   "outputs": [
    {
     "name": "stdout",
     "output_type": "stream",
     "text": [
      "Makefile\t\t pe-tools.ipynb  prog1.c  prog3.c  ya.site\n",
      "malware_bash_book.ipynb  prog1\t\t prog2.c  simple\n"
     ]
    }
   ],
   "source": [
    "!ls"
   ]
  },
  {
   "cell_type": "markdown",
   "metadata": {},
   "source": [
    "Начать печать с 35 байта и распечатать следующие 50 байт:"
   ]
  },
  {
   "cell_type": "code",
   "execution_count": 20,
   "metadata": {},
   "outputs": [
    {
     "name": "stdout",
     "output_type": "stream",
     "text": [
      "00000023: 5f6e 6f20 692d 7561 5f63 7373 5f73 7461  _no i-ua_css_sta\n",
      "00000033: 6e64 6172 7420 692d 7561 5f62 726f 7773  ndart i-ua_brows\n",
      "00000043: 6572 5f75 6e6b 6e6f 776e 2069 2d75 615f  er_unknown i-ua_\n",
      "00000053: 6272                                     br\n"
     ]
    }
   ],
   "source": [
    "!xxd -s 35 -l 50 ya.site"
   ]
  },
  {
   "cell_type": "code",
   "execution_count": null,
   "metadata": {},
   "outputs": [],
   "source": []
  },
  {
   "cell_type": "code",
   "execution_count": null,
   "metadata": {},
   "outputs": [],
   "source": []
  }
 ],
 "metadata": {
  "kernelspec": {
   "display_name": "Python 3",
   "language": "python",
   "name": "python3"
  },
  "language_info": {
   "codemirror_mode": {
    "name": "ipython",
    "version": 3
   },
   "file_extension": ".py",
   "mimetype": "text/x-python",
   "name": "python",
   "nbconvert_exporter": "python",
   "pygments_lexer": "ipython3",
   "version": "3.8.3"
  }
 },
 "nbformat": 4,
 "nbformat_minor": 4
}
