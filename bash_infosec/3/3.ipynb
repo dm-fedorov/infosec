{
 "cells": [
  {
   "cell_type": "markdown",
   "metadata": {},
   "source": [
    "### Регулярные выражения (regular expressions, сокращенно regex)"
   ]
  },
  {
   "cell_type": "markdown",
   "metadata": {},
   "source": [
    "grep"
   ]
  },
  {
   "cell_type": "markdown",
   "metadata": {},
   "source": [
    "**Общие параметры команды**\n",
    "* -c — вывести количество строк, соответствующих шаблону;\n",
    "* -E — включить расширенное регулярное выражение;\n",
    "* -f — читать шаблон поиска, находящийся в предоставленном файле. Файл может содержать несколько шаблонов, причем каждая строка включает в себя один шаблон;\n",
    "* -i — игнорировать регистр символов;\n",
    "* -l — вывести только имя файла и путь, по которому был найден шаблон;\n",
    "* -n — вывести номер строки файла, в которой был найден шаблон;\n",
    "* -R , -r — выполнить рекурсивный поиск подкаталогов."
   ]
  },
  {
   "cell_type": "markdown",
   "metadata": {},
   "source": [
    "В общем случае grep используется следующим образом: grep параметры шаблон имена_файлов.\n",
    "\n",
    "Для поиска в каталоге /home и во всех его подкаталогах файлов, содержащих слово password независимо от регистра, выполните команду:"
   ]
  },
  {
   "cell_type": "code",
   "execution_count": null,
   "metadata": {},
   "outputs": [],
   "source": [
    "grep -R -i 'password' /home"
   ]
  },
  {
   "cell_type": "code",
   "execution_count": null,
   "metadata": {},
   "outputs": [],
   "source": []
  }
 ],
 "metadata": {
  "kernelspec": {
   "display_name": "Bash",
   "language": "bash",
   "name": "bash"
  },
  "language_info": {
   "codemirror_mode": "shell",
   "file_extension": ".sh",
   "mimetype": "text/x-sh",
   "name": "bash"
  }
 },
 "nbformat": 4,
 "nbformat_minor": 4
}
